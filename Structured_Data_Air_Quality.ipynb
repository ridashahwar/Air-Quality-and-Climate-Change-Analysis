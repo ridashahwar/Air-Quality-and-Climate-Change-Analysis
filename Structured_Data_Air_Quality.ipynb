{
 "cells": [
  {
   "cell_type": "markdown",
   "metadata": {
    "id": "QJ-OeP5EzKkW"
   },
   "source": [
    "# **Data Engineering for Air Quality Prediction - OpenAQ Air Quality Data Analysis**\n",
    "\n",
    "**By Rida Shahwar**\n"
   ]
  },
  {
   "cell_type": "markdown",
   "metadata": {},
   "source": [
    "This project focuses on **data engineering for air quality analysis** using OpenAQ air quality data. The aim is to preprocess, clean, and engineer features that can be used for predictive modeling. We will:\n",
    "\n",
    "1. **Collect and load** air quality data.\n",
    "2. **Clean and preprocess** the data.\n",
    "3. Perform **feature engineering** on location and time data.\n",
    "4. Standardize pollutant units and create **pollutant level categories**.\n",
    "5. Integrate a **model validation** step using Linear and Lasso Regression.\n"
   ]
  },
  {
   "cell_type": "markdown",
   "metadata": {
    "id": "gx4HM1MwzTb8"
   },
   "source": [
    "### 1. Data Collection and Loading"
   ]
  },
  {
   "cell_type": "code",
   "execution_count": 51,
   "metadata": {
    "id": "-ELGgnntyVmI"
   },
   "outputs": [],
   "source": [
    "import pandas as pd\n",
    "\n",
    "df = pd.read_excel('openaq (1).xlsx')"
   ]
  },
  {
   "cell_type": "code",
   "execution_count": 52,
   "metadata": {
    "colab": {
     "base_uri": "https://localhost:8080/",
     "height": 417
    },
    "id": "fMj4w4khycrZ",
    "outputId": "9216611e-7ada-4694-c91e-dd0b0723b24c"
   },
   "outputs": [
    {
     "data": {
      "text/html": [
       "<div>\n",
       "<style scoped>\n",
       "    .dataframe tbody tr th:only-of-type {\n",
       "        vertical-align: middle;\n",
       "    }\n",
       "\n",
       "    .dataframe tbody tr th {\n",
       "        vertical-align: top;\n",
       "    }\n",
       "\n",
       "    .dataframe thead th {\n",
       "        text-align: right;\n",
       "    }\n",
       "</style>\n",
       "<table border=\"1\" class=\"dataframe\">\n",
       "  <thead>\n",
       "    <tr style=\"text-align: right;\">\n",
       "      <th></th>\n",
       "      <th>Country Code</th>\n",
       "      <th>City</th>\n",
       "      <th>Location</th>\n",
       "      <th>Coordinates</th>\n",
       "      <th>Pollutant</th>\n",
       "      <th>Source Name</th>\n",
       "      <th>Unit</th>\n",
       "      <th>Value</th>\n",
       "      <th>Last Updated</th>\n",
       "      <th>Country Label</th>\n",
       "    </tr>\n",
       "  </thead>\n",
       "  <tbody>\n",
       "    <tr>\n",
       "      <th>0</th>\n",
       "      <td>FR</td>\n",
       "      <td>VERNEUIL</td>\n",
       "      <td>Verneuil</td>\n",
       "      <td>46.81469300005123, 2.6100689998624795</td>\n",
       "      <td>PM2.5</td>\n",
       "      <td>eea</td>\n",
       "      <td>µg/m³</td>\n",
       "      <td>3.3</td>\n",
       "      <td>2024-10-20T16:00:00-07:00</td>\n",
       "      <td>France</td>\n",
       "    </tr>\n",
       "    <tr>\n",
       "      <th>1</th>\n",
       "      <td>FR</td>\n",
       "      <td>TOURS</td>\n",
       "      <td>Pompidou</td>\n",
       "      <td>47.39463799986039, 0.7048609999996622</td>\n",
       "      <td>PM10</td>\n",
       "      <td>eea</td>\n",
       "      <td>µg/m³</td>\n",
       "      <td>2.3</td>\n",
       "      <td>2024-10-21T17:00:00-07:00</td>\n",
       "      <td>France</td>\n",
       "    </tr>\n",
       "    <tr>\n",
       "      <th>2</th>\n",
       "      <td>FR</td>\n",
       "      <td>METZ</td>\n",
       "      <td>Metz- Pont Grilles</td>\n",
       "      <td>49.12508000010211, 6.181219000343986</td>\n",
       "      <td>NO</td>\n",
       "      <td>eea</td>\n",
       "      <td>µg/m³</td>\n",
       "      <td>25.8</td>\n",
       "      <td>2024-03-11T02:00:00-07:00</td>\n",
       "      <td>France</td>\n",
       "    </tr>\n",
       "    <tr>\n",
       "      <th>3</th>\n",
       "      <td>FR</td>\n",
       "      <td>LE LAMENTIN</td>\n",
       "      <td>Lamentin</td>\n",
       "      <td>14.610653000389345, -61.00258600006397</td>\n",
       "      <td>O3</td>\n",
       "      <td>eea</td>\n",
       "      <td>µg/m³</td>\n",
       "      <td>8.2</td>\n",
       "      <td>2024-10-23T00:00:00-07:00</td>\n",
       "      <td>France</td>\n",
       "    </tr>\n",
       "    <tr>\n",
       "      <th>4</th>\n",
       "      <td>FR</td>\n",
       "      <td>LE ROBERT</td>\n",
       "      <td>Robert Bourg</td>\n",
       "      <td>14.678024999592207, -60.93905599961567</td>\n",
       "      <td>NO2</td>\n",
       "      <td>eea</td>\n",
       "      <td>µg/m³</td>\n",
       "      <td>0.5</td>\n",
       "      <td>2024-10-23T00:00:00-07:00</td>\n",
       "      <td>France</td>\n",
       "    </tr>\n",
       "  </tbody>\n",
       "</table>\n",
       "</div>"
      ],
      "text/plain": [
       "  Country Code         City            Location  \\\n",
       "0           FR     VERNEUIL            Verneuil   \n",
       "1           FR        TOURS            Pompidou   \n",
       "2           FR         METZ  Metz- Pont Grilles   \n",
       "3           FR  LE LAMENTIN            Lamentin   \n",
       "4           FR    LE ROBERT        Robert Bourg   \n",
       "\n",
       "                              Coordinates Pollutant Source Name   Unit  Value  \\\n",
       "0   46.81469300005123, 2.6100689998624795     PM2.5         eea  µg/m³    3.3   \n",
       "1   47.39463799986039, 0.7048609999996622      PM10         eea  µg/m³    2.3   \n",
       "2    49.12508000010211, 6.181219000343986        NO         eea  µg/m³   25.8   \n",
       "3  14.610653000389345, -61.00258600006397        O3         eea  µg/m³    8.2   \n",
       "4  14.678024999592207, -60.93905599961567       NO2         eea  µg/m³    0.5   \n",
       "\n",
       "                Last Updated Country Label  \n",
       "0  2024-10-20T16:00:00-07:00        France  \n",
       "1  2024-10-21T17:00:00-07:00        France  \n",
       "2  2024-03-11T02:00:00-07:00        France  \n",
       "3  2024-10-23T00:00:00-07:00        France  \n",
       "4  2024-10-23T00:00:00-07:00        France  "
      ]
     },
     "execution_count": 52,
     "metadata": {},
     "output_type": "execute_result"
    }
   ],
   "source": [
    "df.head()"
   ]
  },
  {
   "cell_type": "markdown",
   "metadata": {},
   "source": [
    "The data contains air quality readings from various locations, with columns including:\n",
    "- **Country Code**: ISO code for the country.\n",
    "- **City, Location, Coordinates**: Geographic information.\n",
    "- **Pollutant, Unit, Value**: Pollutant details.\n",
    "- **Last Updated**: Timestamp for the reading.\n",
    "\n",
    "Let's start by cleaning and handling missing values.\n"
   ]
  },
  {
   "cell_type": "markdown",
   "metadata": {
    "id": "MJ1dRYYJzpFQ"
   },
   "source": [
    "### 2. Data Cleaning"
   ]
  },
  {
   "cell_type": "markdown",
   "metadata": {
    "id": "GTnVM6Ie1NYZ"
   },
   "source": [
    "#### 2.1 Handling Missing Data and Removing Unecessary Columns"
   ]
  },
  {
   "cell_type": "code",
   "execution_count": 53,
   "metadata": {
    "colab": {
     "base_uri": "https://localhost:8080/"
    },
    "id": "z3OphdCHzoWJ",
    "outputId": "9d1394b4-aeaf-4afa-d83a-128b2a33c53b"
   },
   "outputs": [
    {
     "name": "stdout",
     "output_type": "stream",
     "text": [
      "Country Code         0\n",
      "City             29022\n",
      "Location             2\n",
      "Coordinates         70\n",
      "Pollutant            0\n",
      "Source Name          0\n",
      "Unit                 0\n",
      "Value                0\n",
      "Last Updated         0\n",
      "Country Label      127\n",
      "dtype: int64\n",
      "Country Code         0\n",
      "City             29022\n",
      "Location             2\n",
      "Coordinates         70\n",
      "Pollutant            0\n",
      "Source Name          0\n",
      "Unit                 0\n",
      "Value                0\n",
      "Last Updated         0\n",
      "Country Label      127\n",
      "dtype: int64\n"
     ]
    }
   ],
   "source": [
    "# Check for missing values\n",
    "print(df.isnull().sum())\n",
    "\n",
    "# Check for NaN values (NaN is a specific type of missing value)\n",
    "print(df.isna().sum())"
   ]
  },
  {
   "cell_type": "code",
   "execution_count": 54,
   "metadata": {},
   "outputs": [],
   "source": [
    "# Fill missing 'City' with \"Unknown\"\n",
    "df['City'] = df['City'].fillna(\"Unknown\")\n",
    "\n",
    "# Drop rows where 'Location' or 'Coordinates' are missing\n",
    "df = df.dropna(subset=['Location', 'Coordinates'])\n",
    "\n",
    "# Drop 'Country Label' column as it's redundant with 'Country Code'\n",
    "df = df.drop(columns=['Country Label'])"
   ]
  },
  {
   "cell_type": "code",
   "execution_count": 55,
   "metadata": {
    "colab": {
     "base_uri": "https://localhost:8080/"
    },
    "id": "EUzpJV-nAbTA",
    "outputId": "eb909629-1dcb-4b81-887a-ac657211c30c"
   },
   "outputs": [
    {
     "name": "stdout",
     "output_type": "stream",
     "text": [
      "Country Code    0\n",
      "City            0\n",
      "Location        0\n",
      "Coordinates     0\n",
      "Pollutant       0\n",
      "Source Name     0\n",
      "Unit            0\n",
      "Value           0\n",
      "Last Updated    0\n",
      "dtype: int64\n",
      "Country Code    0\n",
      "City            0\n",
      "Location        0\n",
      "Coordinates     0\n",
      "Pollutant       0\n",
      "Source Name     0\n",
      "Unit            0\n",
      "Value           0\n",
      "Last Updated    0\n",
      "dtype: int64\n"
     ]
    }
   ],
   "source": [
    "# Check for missing values\n",
    "print(df.isnull().sum())\n",
    "\n",
    "# Check for NaN values (NaN is a specific type of missing value)\n",
    "print(df.isna().sum())"
   ]
  },
  {
   "cell_type": "markdown",
   "metadata": {},
   "source": [
    "We handled missing values by:\n",
    "1. Filling missing values in 'City' with \"Unknown\".\n",
    "2. Dropping rows missing 'Location' or 'Coordinates'.\n",
    "3. Removing the redundant 'Country Label' column.\n"
   ]
  },
  {
   "cell_type": "markdown",
   "metadata": {
    "id": "u_jSrzJn36nb"
   },
   "source": [
    "### 3. Feature Engineering"
   ]
  },
  {
   "cell_type": "markdown",
   "metadata": {
    "id": "jTVDEUWUBXv_"
   },
   "source": [
    "#### 3.1 Splitting Coordinates into Latitude and Longitude"
   ]
  },
  {
   "cell_type": "code",
   "execution_count": 56,
   "metadata": {
    "id": "pGndbDlf31cz"
   },
   "outputs": [],
   "source": [
    "# Split 'Coordinates' into 'Latitude' and 'Longitude'\n",
    "df[['Latitude', 'Longitude']] = df['Coordinates'].str.split(',', expand=True)\n",
    "df['Latitude'] = pd.to_numeric(df['Latitude'])\n",
    "df['Longitude'] = pd.to_numeric(df['Longitude'])\n",
    "\n",
    "# Drop the original 'Coordinates' column\n",
    "df = df.drop(columns=['Coordinates'])"
   ]
  },
  {
   "cell_type": "markdown",
   "metadata": {
    "id": "YVZ6g0yxBh2w"
   },
   "source": [
    "#### 3.2 Date-Time Feature Extraction from Last Updated"
   ]
  },
  {
   "cell_type": "code",
   "execution_count": 57,
   "metadata": {
    "id": "p5ytkNJaYGZE"
   },
   "outputs": [],
   "source": [
    "# Convert 'Last Updated' to datetime format, ensuring the column type is updated\n",
    "df['Last Updated'] = pd.to_datetime(df['Last Updated'], errors='coerce', utc=True)\n",
    "# Force the column to datetime if it's not automatically inferred\n",
    "if not pd.api.types.is_datetime64_any_dtype(df['Last Updated']):\n",
    "    df['Last Updated'] = df['Last Updated'].astype('datetime64[ns]') # This line may be redundant after the above change\n",
    "\n",
    "# Extract date components\n",
    "df['Year'] = df['Last Updated'].dt.year\n",
    "df['Month'] = df['Last Updated'].dt.month\n",
    "df['Day'] = df['Last Updated'].dt.day\n",
    "df['Hour'] = df['Last Updated'].dt.hour\n",
    "df['DayOfWeek'] = df['Last Updated'].dt.dayofweek"
   ]
  },
  {
   "cell_type": "code",
   "execution_count": 58,
   "metadata": {
    "id": "zqVotomBEW6w"
   },
   "outputs": [],
   "source": [
    "# Fill NaN values in 'Year' with 0 before converting to int\n",
    "df['Year'] = df['Year'].fillna(0).astype(int)\n",
    "df['Month'] = df['Month'].fillna(0).astype(int)  # Convert to int after filling NaN with 0\n",
    "df['Month'] = df['Month'].apply(lambda x: f\"{x:02}\") # Format Month column\n",
    "df['Day'] = df['Day'].fillna(0).astype(int) # Convert to int after filling NaN with 0\n",
    "df['Day'] = df['Day'].apply(lambda x: f\"{x:02}\") # Format Day column\n",
    "df['Hour'] = df['Hour'].fillna(0).astype(int)  # Convert to int after filling NaN with 0\n",
    "df['Hour'] = df['Hour'].apply(lambda x: f\"{x:02}\")"
   ]
  },
  {
   "cell_type": "code",
   "execution_count": 59,
   "metadata": {
    "id": "Kxj5PX2cspkG"
   },
   "outputs": [],
   "source": [
    "# Concatenate into a single column as 'YYYYMMDDHH' and convert to integer\n",
    "df['DateDecimal'] = (df['Year'].astype(str) +\n",
    "                     df['Month'] +\n",
    "                     df['Day'] +\n",
    "                     df['Hour']).astype(int)"
   ]
  },
  {
   "cell_type": "markdown",
   "metadata": {},
   "source": [
    "#### 3.3 Standardizing units for pollutant values."
   ]
  },
  {
   "cell_type": "code",
   "execution_count": 60,
   "metadata": {},
   "outputs": [],
   "source": [
    "# Define conversion functions for each unit\n",
    "def convert_to_ug_m3(row):\n",
    "    if row['Unit'] == 'ppb':\n",
    "        return row['Value'] * 1.88  # Example conversion factor for NO2\n",
    "    elif row['Unit'] == 'ppm':\n",
    "        return row['Value'] * 1880  # Example conversion factor for NO2\n",
    "    elif row['Unit'] == 'particles/cm³':\n",
    "        return row['Value'] * 1e6  # Example conversion for particles to µg/m³\n",
    "    elif row['Unit'] == '%':\n",
    "        return row['Value'] * 10  # Hypothetical conversion factor for demonstration\n",
    "    else:\n",
    "        return row['Value']  # If unit is already µg/m³, return as is\n",
    "\n",
    "# Apply the function across each row and update the values\n",
    "df['Value'] = df.apply(convert_to_ug_m3, axis=1)\n",
    "\n",
    "# Update all units to µg/m³ for consistency\n",
    "df['Unit'] = 'µg/m³'\n"
   ]
  },
  {
   "cell_type": "code",
   "execution_count": 61,
   "metadata": {},
   "outputs": [
    {
     "data": {
      "text/plain": [
       "array(['µg/m³'], dtype=object)"
      ]
     },
     "execution_count": 61,
     "metadata": {},
     "output_type": "execute_result"
    }
   ],
   "source": [
    "df['Unit'].unique()"
   ]
  },
  {
   "cell_type": "markdown",
   "metadata": {},
   "source": [
    "Converted all pollutant values to a common unit ('µg/m³') for consistency.\n"
   ]
  },
  {
   "cell_type": "markdown",
   "metadata": {
    "id": "-5wyaHC8YWr1"
   },
   "source": [
    "#### 3.4 Feature Scaling for Value"
   ]
  },
  {
   "cell_type": "code",
   "execution_count": 62,
   "metadata": {
    "id": "2WKuyyZZEg8E"
   },
   "outputs": [],
   "source": [
    "from sklearn.preprocessing import StandardScaler\n",
    "\n",
    "scaler = StandardScaler()\n",
    "df['Value_Scaled'] = scaler.fit_transform(df[['Value']])\n"
   ]
  },
  {
   "cell_type": "markdown",
   "metadata": {
    "id": "F0HwGaqRYrUF"
   },
   "source": [
    "#### 3.5 Encoding Categorical Variables"
   ]
  },
  {
   "cell_type": "code",
   "execution_count": 63,
   "metadata": {
    "id": "A1tb4GDDYnm4"
   },
   "outputs": [],
   "source": [
    "df = pd.get_dummies(df, columns=['Country Code', 'Pollutant', 'Source Name'], drop_first=True)"
   ]
  },
  {
   "cell_type": "code",
   "execution_count": 64,
   "metadata": {
    "id": "KKv9OOT5t_1S"
   },
   "outputs": [],
   "source": [
    "df = pd.get_dummies(df, columns=['City'], prefix='City', drop_first=True)"
   ]
  },
  {
   "cell_type": "code",
   "execution_count": 65,
   "metadata": {
    "id": "61-mAGRxvig3"
   },
   "outputs": [],
   "source": [
    "df = pd.get_dummies(df, columns=['Location'], drop_first=True)"
   ]
  },
  {
   "cell_type": "markdown",
   "metadata": {
    "id": "AglLNu6kZCUi"
   },
   "source": [
    "#### 3.6 Pollutant Level Categorization"
   ]
  },
  {
   "cell_type": "code",
   "execution_count": 66,
   "metadata": {
    "id": "4zxb8YlSY1Ed"
   },
   "outputs": [],
   "source": [
    "def categorize_pollution(value):\n",
    "    if value < 50:\n",
    "        return 'Low'\n",
    "    elif 50 <= value < 100:\n",
    "        return 'Moderate'\n",
    "    else:\n",
    "        return 'High'\n",
    "\n",
    "df['Pollutant_Level'] = df['Value'].apply(categorize_pollution)\n"
   ]
  },
  {
   "cell_type": "code",
   "execution_count": 67,
   "metadata": {
    "id": "OMe6zzA1fhO-"
   },
   "outputs": [],
   "source": [
    "df = df.drop(columns=['Last Updated'])"
   ]
  },
  {
   "cell_type": "markdown",
   "metadata": {
    "id": "Rx2eGbDwrHuI"
   },
   "source": [
    "### 4. Model Integration for Validation"
   ]
  },
  {
   "cell_type": "code",
   "execution_count": 68,
   "metadata": {
    "id": "AU0FVtF3psBh"
   },
   "outputs": [],
   "source": [
    "import pandas as pd\n",
    "from sklearn.model_selection import train_test_split\n",
    "from sklearn.linear_model import LinearRegression\n",
    "from sklearn.metrics import mean_squared_error, r2_score\n"
   ]
  },
  {
   "cell_type": "code",
   "execution_count": 69,
   "metadata": {
    "id": "znidkB_FtHOp"
   },
   "outputs": [],
   "source": [
    "# Check if 'Value_scaled' column exists in the DataFrame\n",
    "if 'Value_scaled' not in df.columns:\n",
    "    # If not present, perform scaling here or load data where it is present\n",
    "    # Example using MinMaxScaler:\n",
    "    from sklearn.preprocessing import MinMaxScaler\n",
    "    scaler = MinMaxScaler()\n",
    "    df['Value_scaled'] = scaler.fit_transform(df[['Value']])\n",
    "\n",
    "# Now, proceed with dropping the columns\n",
    "X = df.drop(columns=['Value', 'Value_scaled'])\n",
    "y = df['Value_scaled']"
   ]
  },
  {
   "cell_type": "code",
   "execution_count": 70,
   "metadata": {
    "id": "pygVmMOUtQPi"
   },
   "outputs": [],
   "source": [
    "# Split data into train and test sets\n",
    "X_train, X_test, y_train, y_test = train_test_split(X, y, test_size=0.3, random_state=42)"
   ]
  },
  {
   "cell_type": "code",
   "execution_count": 71,
   "metadata": {
    "id": "gtY2g2-UtUhj"
   },
   "outputs": [],
   "source": [
    "# Initialize the model\n",
    "model = LinearRegression()\n"
   ]
  },
  {
   "cell_type": "code",
   "execution_count": 72,
   "metadata": {
    "colab": {
     "base_uri": "https://localhost:8080/"
    },
    "id": "vIjQQuE9wPaK",
    "outputId": "b22c2481-23dd-4302-cce0-0677b8e9b15f"
   },
   "outputs": [
    {
     "name": "stdout",
     "output_type": "stream",
     "text": [
      "Non-numeric columns: Index(['Unit', 'Month', 'Day', 'Hour', 'Pollutant_Level'], dtype='object')\n"
     ]
    }
   ],
   "source": [
    "# Check for non-numeric columns in X_train\n",
    "non_numeric_cols = X_train.select_dtypes(include=['object']).columns\n",
    "print(\"Non-numeric columns:\", non_numeric_cols)"
   ]
  },
  {
   "cell_type": "code",
   "execution_count": 73,
   "metadata": {
    "id": "nGd1JQpBwN7T"
   },
   "outputs": [],
   "source": [
    "# Apply one-hot encoding to any remaining categorical columns\n",
    "X_train = pd.get_dummies(X_train, columns=non_numeric_cols, drop_first=True)\n",
    "X_test = pd.get_dummies(X_test, columns=non_numeric_cols, drop_first=True)\n"
   ]
  },
  {
   "cell_type": "code",
   "execution_count": 74,
   "metadata": {
    "id": "558Q7hyHwWGb"
   },
   "outputs": [],
   "source": [
    "# Align columns in X_train and X_test\n",
    "X_train, X_test = X_train.align(X_test, join='left', axis=1, fill_value=0)\n"
   ]
  },
  {
   "cell_type": "code",
   "execution_count": 75,
   "metadata": {
    "id": "c8vI-xTVwaF3"
   },
   "outputs": [
    {
     "data": {
      "text/plain": [
       "LinearRegression()"
      ]
     },
     "execution_count": 75,
     "metadata": {},
     "output_type": "execute_result"
    }
   ],
   "source": [
    "# Fit the model on training data\n",
    "model.fit(X_train, y_train)\n"
   ]
  },
  {
   "cell_type": "code",
   "execution_count": 76,
   "metadata": {},
   "outputs": [],
   "source": [
    "# Predict on the test set\n",
    "y_pred = model.predict(X_test)"
   ]
  },
  {
   "cell_type": "code",
   "execution_count": 77,
   "metadata": {
    "id": "KYfw5lsQwjAT"
   },
   "outputs": [
    {
     "name": "stdout",
     "output_type": "stream",
     "text": [
      "Mean Squared Error: 2.3403168258915873e-18\n",
      "R-squared: 0.9999999999999748\n"
     ]
    }
   ],
   "source": [
    "# Calculate MSE and R-squared\n",
    "mse = mean_squared_error(y_test, y_pred)\n",
    "r2 = r2_score(y_test, y_pred)\n",
    "\n",
    "print(f\"Mean Squared Error: {mse}\")\n",
    "print(f\"R-squared: {r2}\")"
   ]
  },
  {
   "cell_type": "code",
   "execution_count": 80,
   "metadata": {},
   "outputs": [
    {
     "name": "stdout",
     "output_type": "stream",
     "text": [
      "Cross-validated Mean Squared Error: 5.35934557673926e-05\n"
     ]
    }
   ],
   "source": [
    "import numpy as np\n",
    "# Drop the 'Unit' column if it's still in X\n",
    "X = X.select_dtypes(include=[np.number])\n",
    "\n",
    "from sklearn.linear_model import Lasso\n",
    "from sklearn.model_selection import cross_val_score\n",
    "\n",
    "# Initialize Lasso model with a small alpha (regularization strength)\n",
    "lasso_model = Lasso(alpha=0.1)\n",
    "\n",
    "# Perform 5-fold cross-validation\n",
    "cv_mse = cross_val_score(lasso_model, X, y, cv=5, scoring='neg_mean_squared_error')\n",
    "cv_mse_mean = -cv_mse.mean()  # Convert to positive MSE\n",
    "\n",
    "print(f\"Cross-validated Mean Squared Error: {cv_mse_mean}\")\n",
    "\n"
   ]
  }
 ],
 "metadata": {
  "colab": {
   "provenance": []
  },
  "kernelspec": {
   "display_name": "Python 3",
   "language": "python",
   "name": "python3"
  },
  "language_info": {
   "codemirror_mode": {
    "name": "ipython",
    "version": 3
   },
   "file_extension": ".py",
   "mimetype": "text/x-python",
   "name": "python",
   "nbconvert_exporter": "python",
   "pygments_lexer": "ipython3",
   "version": "3.8.8"
  }
 },
 "nbformat": 4,
 "nbformat_minor": 1
}
