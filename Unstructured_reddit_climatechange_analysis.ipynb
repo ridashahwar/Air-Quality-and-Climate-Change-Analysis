{
 "cells": [
  {
   "cell_type": "markdown",
   "metadata": {
    "id": "CM_9xpiBCX5v"
   },
   "source": [
    "# Data Engineering for Unstructured Reddit Data on Climate Change\n",
    "\n",
    "**By Rida Shahwar**"
   ]
  },
  {
   "cell_type": "markdown",
   "metadata": {},
   "source": [
    "**Objective**: To perform comprehensive feature engineering on unstructured text data, identifying sentiment trends, user engagement, controversial topics, and key themes within climate change discussions on Reddit."
   ]
  },
  {
   "cell_type": "markdown",
   "metadata": {},
   "source": [
    "### 1. Importing Libraries"
   ]
  },
  {
   "cell_type": "code",
   "execution_count": 13,
   "metadata": {
    "colab": {
     "base_uri": "https://localhost:8080/"
    },
    "id": "7YqcHYmEGuWl",
    "outputId": "894bba4a-5f02-4b99-e11e-2394d60daff7"
   },
   "outputs": [
    {
     "name": "stderr",
     "output_type": "stream",
     "text": [
      "[nltk_data] Downloading package stopwords to /root/nltk_data...\n",
      "[nltk_data]   Package stopwords is already up-to-date!\n",
      "[nltk_data] Downloading package punkt to /root/nltk_data...\n",
      "[nltk_data]   Package punkt is already up-to-date!\n"
     ]
    },
    {
     "data": {
      "text/plain": [
       "True"
      ]
     },
     "execution_count": 13,
     "metadata": {},
     "output_type": "execute_result"
    }
   ],
   "source": [
    "# Import basic libraries\n",
    "import pandas as pd\n",
    "import numpy as np\n",
    "import re\n",
    "from datetime import datetime\n",
    "\n",
    "# Import NLP libraries\n",
    "import nltk\n",
    "from nltk.corpus import stopwords\n",
    "from nltk.tokenize import word_tokenize\n",
    "from textblob import TextBlob\n",
    "from sklearn.feature_extraction.text import TfidfVectorizer\n",
    "\n",
    "# Download stopwords if not already downloaded\n",
    "nltk.download('stopwords')\n",
    "nltk.download('punkt')\n"
   ]
  },
  {
   "cell_type": "markdown",
   "metadata": {},
   "source": [
    "### 2. Data Loading"
   ]
  },
  {
   "cell_type": "code",
   "execution_count": 14,
   "metadata": {
    "colab": {
     "base_uri": "https://localhost:8080/",
     "height": 672
    },
    "id": "rEhIA8fjHrcz",
    "outputId": "02144a80-f1a2-4941-f059-14a24cdbd0fe"
   },
   "outputs": [
    {
     "data": {
      "application/vnd.google.colaboratory.intrinsic+json": {
       "type": "dataframe",
       "variable_name": "data"
      },
      "text/html": [
       "\n",
       "  <div id=\"df-08438ffa-b612-4545-9aa6-ff3d25f09d2c\" class=\"colab-df-container\">\n",
       "    <div>\n",
       "<style scoped>\n",
       "    .dataframe tbody tr th:only-of-type {\n",
       "        vertical-align: middle;\n",
       "    }\n",
       "\n",
       "    .dataframe tbody tr th {\n",
       "        vertical-align: top;\n",
       "    }\n",
       "\n",
       "    .dataframe thead th {\n",
       "        text-align: right;\n",
       "    }\n",
       "</style>\n",
       "<table border=\"1\" class=\"dataframe\">\n",
       "  <thead>\n",
       "    <tr style=\"text-align: right;\">\n",
       "      <th></th>\n",
       "      <th>comment_id</th>\n",
       "      <th>score</th>\n",
       "      <th>self_text</th>\n",
       "      <th>subreddit</th>\n",
       "      <th>created_time</th>\n",
       "      <th>post_id</th>\n",
       "      <th>author_name</th>\n",
       "      <th>controversiality</th>\n",
       "      <th>ups</th>\n",
       "      <th>downs</th>\n",
       "      <th>...</th>\n",
       "      <th>user_link_karma</th>\n",
       "      <th>user_comment_karma</th>\n",
       "      <th>user_total_karma</th>\n",
       "      <th>post_score</th>\n",
       "      <th>post_self_text</th>\n",
       "      <th>post_title</th>\n",
       "      <th>post_upvote_ratio</th>\n",
       "      <th>post_thumbs_ups</th>\n",
       "      <th>post_total_awards_received</th>\n",
       "      <th>post_created_time</th>\n",
       "    </tr>\n",
       "  </thead>\n",
       "  <tbody>\n",
       "    <tr>\n",
       "      <th>0</th>\n",
       "      <td>ltty95k</td>\n",
       "      <td>1</td>\n",
       "      <td>She can at least say something besides \"I will...</td>\n",
       "      <td>environment</td>\n",
       "      <td>2024-10-26 10:49:34</td>\n",
       "      <td>1gc1p4k</td>\n",
       "      <td>MaybePotatoes</td>\n",
       "      <td>0</td>\n",
       "      <td>1</td>\n",
       "      <td>0</td>\n",
       "      <td>...</td>\n",
       "      <td>55195.0</td>\n",
       "      <td>50767.0</td>\n",
       "      <td>106458.0</td>\n",
       "      <td>1195</td>\n",
       "      <td>NaN</td>\n",
       "      <td>Climate Groups Warn Third-Party Vote 'Could Ha...</td>\n",
       "      <td>0.95</td>\n",
       "      <td>1195</td>\n",
       "      <td>0</td>\n",
       "      <td>2024-10-25 18:51:45</td>\n",
       "    </tr>\n",
       "    <tr>\n",
       "      <th>1</th>\n",
       "      <td>lttxzig</td>\n",
       "      <td>1</td>\n",
       "      <td>Ahh yes, that time when essential workers rule...</td>\n",
       "      <td>canada</td>\n",
       "      <td>2024-10-26 10:46:53</td>\n",
       "      <td>1gbjnl4</td>\n",
       "      <td>CKXI1</td>\n",
       "      <td>0</td>\n",
       "      <td>1</td>\n",
       "      <td>0</td>\n",
       "      <td>...</td>\n",
       "      <td>1.0</td>\n",
       "      <td>750.0</td>\n",
       "      <td>751.0</td>\n",
       "      <td>376</td>\n",
       "      <td>NaN</td>\n",
       "      <td>As federal workers slam office mandate, study ...</td>\n",
       "      <td>0.84</td>\n",
       "      <td>376</td>\n",
       "      <td>0</td>\n",
       "      <td>2024-10-25 02:11:56</td>\n",
       "    </tr>\n",
       "    <tr>\n",
       "      <th>2</th>\n",
       "      <td>lttx2v6</td>\n",
       "      <td>1</td>\n",
       "      <td>My thinking is, that if water of low salinity ...</td>\n",
       "      <td>climatechange</td>\n",
       "      <td>2024-10-26 10:38:02</td>\n",
       "      <td>1gchdvg</td>\n",
       "      <td>Abildsan</td>\n",
       "      <td>0</td>\n",
       "      <td>1</td>\n",
       "      <td>0</td>\n",
       "      <td>...</td>\n",
       "      <td>583.0</td>\n",
       "      <td>1652.0</td>\n",
       "      <td>2268.0</td>\n",
       "      <td>5</td>\n",
       "      <td>I have a hobby of following ice distribution i...</td>\n",
       "      <td>Is AMOC closing right now</td>\n",
       "      <td>1.00</td>\n",
       "      <td>5</td>\n",
       "      <td>0</td>\n",
       "      <td>2024-10-26 09:38:41</td>\n",
       "    </tr>\n",
       "    <tr>\n",
       "      <th>3</th>\n",
       "      <td>lttx10z</td>\n",
       "      <td>1</td>\n",
       "      <td>California will not become a swing state, period</td>\n",
       "      <td>environment</td>\n",
       "      <td>2024-10-26 10:37:31</td>\n",
       "      <td>1gc1p4k</td>\n",
       "      <td>MaybePotatoes</td>\n",
       "      <td>0</td>\n",
       "      <td>1</td>\n",
       "      <td>0</td>\n",
       "      <td>...</td>\n",
       "      <td>55195.0</td>\n",
       "      <td>50767.0</td>\n",
       "      <td>106458.0</td>\n",
       "      <td>1195</td>\n",
       "      <td>NaN</td>\n",
       "      <td>Climate Groups Warn Third-Party Vote 'Could Ha...</td>\n",
       "      <td>0.95</td>\n",
       "      <td>1195</td>\n",
       "      <td>0</td>\n",
       "      <td>2024-10-25 18:51:45</td>\n",
       "    </tr>\n",
       "    <tr>\n",
       "      <th>4</th>\n",
       "      <td>lttwts9</td>\n",
       "      <td>1</td>\n",
       "      <td>Global ecosystem would bounce back within a mi...</td>\n",
       "      <td>climate</td>\n",
       "      <td>2024-10-26 10:35:31</td>\n",
       "      <td>1gbrica</td>\n",
       "      <td>Ze_Wendriner</td>\n",
       "      <td>0</td>\n",
       "      <td>1</td>\n",
       "      <td>0</td>\n",
       "      <td>...</td>\n",
       "      <td>1136.0</td>\n",
       "      <td>36733.0</td>\n",
       "      <td>38121.0</td>\n",
       "      <td>230</td>\n",
       "      <td>NaN</td>\n",
       "      <td>Latest UN report demands 'unprecedented' emiss...</td>\n",
       "      <td>0.99</td>\n",
       "      <td>230</td>\n",
       "      <td>0</td>\n",
       "      <td>2024-10-25 10:58:08</td>\n",
       "    </tr>\n",
       "  </tbody>\n",
       "</table>\n",
       "<p>5 rows × 24 columns</p>\n",
       "</div>\n",
       "    <div class=\"colab-df-buttons\">\n",
       "\n",
       "  <div class=\"colab-df-container\">\n",
       "    <button class=\"colab-df-convert\" onclick=\"convertToInteractive('df-08438ffa-b612-4545-9aa6-ff3d25f09d2c')\"\n",
       "            title=\"Convert this dataframe to an interactive table.\"\n",
       "            style=\"display:none;\">\n",
       "\n",
       "  <svg xmlns=\"http://www.w3.org/2000/svg\" height=\"24px\" viewBox=\"0 -960 960 960\">\n",
       "    <path d=\"M120-120v-720h720v720H120Zm60-500h600v-160H180v160Zm220 220h160v-160H400v160Zm0 220h160v-160H400v160ZM180-400h160v-160H180v160Zm440 0h160v-160H620v160ZM180-180h160v-160H180v160Zm440 0h160v-160H620v160Z\"/>\n",
       "  </svg>\n",
       "    </button>\n",
       "\n",
       "  <style>\n",
       "    .colab-df-container {\n",
       "      display:flex;\n",
       "      gap: 12px;\n",
       "    }\n",
       "\n",
       "    .colab-df-convert {\n",
       "      background-color: #E8F0FE;\n",
       "      border: none;\n",
       "      border-radius: 50%;\n",
       "      cursor: pointer;\n",
       "      display: none;\n",
       "      fill: #1967D2;\n",
       "      height: 32px;\n",
       "      padding: 0 0 0 0;\n",
       "      width: 32px;\n",
       "    }\n",
       "\n",
       "    .colab-df-convert:hover {\n",
       "      background-color: #E2EBFA;\n",
       "      box-shadow: 0px 1px 2px rgba(60, 64, 67, 0.3), 0px 1px 3px 1px rgba(60, 64, 67, 0.15);\n",
       "      fill: #174EA6;\n",
       "    }\n",
       "\n",
       "    .colab-df-buttons div {\n",
       "      margin-bottom: 4px;\n",
       "    }\n",
       "\n",
       "    [theme=dark] .colab-df-convert {\n",
       "      background-color: #3B4455;\n",
       "      fill: #D2E3FC;\n",
       "    }\n",
       "\n",
       "    [theme=dark] .colab-df-convert:hover {\n",
       "      background-color: #434B5C;\n",
       "      box-shadow: 0px 1px 3px 1px rgba(0, 0, 0, 0.15);\n",
       "      filter: drop-shadow(0px 1px 2px rgba(0, 0, 0, 0.3));\n",
       "      fill: #FFFFFF;\n",
       "    }\n",
       "  </style>\n",
       "\n",
       "    <script>\n",
       "      const buttonEl =\n",
       "        document.querySelector('#df-08438ffa-b612-4545-9aa6-ff3d25f09d2c button.colab-df-convert');\n",
       "      buttonEl.style.display =\n",
       "        google.colab.kernel.accessAllowed ? 'block' : 'none';\n",
       "\n",
       "      async function convertToInteractive(key) {\n",
       "        const element = document.querySelector('#df-08438ffa-b612-4545-9aa6-ff3d25f09d2c');\n",
       "        const dataTable =\n",
       "          await google.colab.kernel.invokeFunction('convertToInteractive',\n",
       "                                                    [key], {});\n",
       "        if (!dataTable) return;\n",
       "\n",
       "        const docLinkHtml = 'Like what you see? Visit the ' +\n",
       "          '<a target=\"_blank\" href=https://colab.research.google.com/notebooks/data_table.ipynb>data table notebook</a>'\n",
       "          + ' to learn more about interactive tables.';\n",
       "        element.innerHTML = '';\n",
       "        dataTable['output_type'] = 'display_data';\n",
       "        await google.colab.output.renderOutput(dataTable, element);\n",
       "        const docLink = document.createElement('div');\n",
       "        docLink.innerHTML = docLinkHtml;\n",
       "        element.appendChild(docLink);\n",
       "      }\n",
       "    </script>\n",
       "  </div>\n",
       "\n",
       "\n",
       "<div id=\"df-424ffcb1-fecb-450c-ae79-ad9f978b3759\">\n",
       "  <button class=\"colab-df-quickchart\" onclick=\"quickchart('df-424ffcb1-fecb-450c-ae79-ad9f978b3759')\"\n",
       "            title=\"Suggest charts\"\n",
       "            style=\"display:none;\">\n",
       "\n",
       "<svg xmlns=\"http://www.w3.org/2000/svg\" height=\"24px\"viewBox=\"0 0 24 24\"\n",
       "     width=\"24px\">\n",
       "    <g>\n",
       "        <path d=\"M19 3H5c-1.1 0-2 .9-2 2v14c0 1.1.9 2 2 2h14c1.1 0 2-.9 2-2V5c0-1.1-.9-2-2-2zM9 17H7v-7h2v7zm4 0h-2V7h2v10zm4 0h-2v-4h2v4z\"/>\n",
       "    </g>\n",
       "</svg>\n",
       "  </button>\n",
       "\n",
       "<style>\n",
       "  .colab-df-quickchart {\n",
       "      --bg-color: #E8F0FE;\n",
       "      --fill-color: #1967D2;\n",
       "      --hover-bg-color: #E2EBFA;\n",
       "      --hover-fill-color: #174EA6;\n",
       "      --disabled-fill-color: #AAA;\n",
       "      --disabled-bg-color: #DDD;\n",
       "  }\n",
       "\n",
       "  [theme=dark] .colab-df-quickchart {\n",
       "      --bg-color: #3B4455;\n",
       "      --fill-color: #D2E3FC;\n",
       "      --hover-bg-color: #434B5C;\n",
       "      --hover-fill-color: #FFFFFF;\n",
       "      --disabled-bg-color: #3B4455;\n",
       "      --disabled-fill-color: #666;\n",
       "  }\n",
       "\n",
       "  .colab-df-quickchart {\n",
       "    background-color: var(--bg-color);\n",
       "    border: none;\n",
       "    border-radius: 50%;\n",
       "    cursor: pointer;\n",
       "    display: none;\n",
       "    fill: var(--fill-color);\n",
       "    height: 32px;\n",
       "    padding: 0;\n",
       "    width: 32px;\n",
       "  }\n",
       "\n",
       "  .colab-df-quickchart:hover {\n",
       "    background-color: var(--hover-bg-color);\n",
       "    box-shadow: 0 1px 2px rgba(60, 64, 67, 0.3), 0 1px 3px 1px rgba(60, 64, 67, 0.15);\n",
       "    fill: var(--button-hover-fill-color);\n",
       "  }\n",
       "\n",
       "  .colab-df-quickchart-complete:disabled,\n",
       "  .colab-df-quickchart-complete:disabled:hover {\n",
       "    background-color: var(--disabled-bg-color);\n",
       "    fill: var(--disabled-fill-color);\n",
       "    box-shadow: none;\n",
       "  }\n",
       "\n",
       "  .colab-df-spinner {\n",
       "    border: 2px solid var(--fill-color);\n",
       "    border-color: transparent;\n",
       "    border-bottom-color: var(--fill-color);\n",
       "    animation:\n",
       "      spin 1s steps(1) infinite;\n",
       "  }\n",
       "\n",
       "  @keyframes spin {\n",
       "    0% {\n",
       "      border-color: transparent;\n",
       "      border-bottom-color: var(--fill-color);\n",
       "      border-left-color: var(--fill-color);\n",
       "    }\n",
       "    20% {\n",
       "      border-color: transparent;\n",
       "      border-left-color: var(--fill-color);\n",
       "      border-top-color: var(--fill-color);\n",
       "    }\n",
       "    30% {\n",
       "      border-color: transparent;\n",
       "      border-left-color: var(--fill-color);\n",
       "      border-top-color: var(--fill-color);\n",
       "      border-right-color: var(--fill-color);\n",
       "    }\n",
       "    40% {\n",
       "      border-color: transparent;\n",
       "      border-right-color: var(--fill-color);\n",
       "      border-top-color: var(--fill-color);\n",
       "    }\n",
       "    60% {\n",
       "      border-color: transparent;\n",
       "      border-right-color: var(--fill-color);\n",
       "    }\n",
       "    80% {\n",
       "      border-color: transparent;\n",
       "      border-right-color: var(--fill-color);\n",
       "      border-bottom-color: var(--fill-color);\n",
       "    }\n",
       "    90% {\n",
       "      border-color: transparent;\n",
       "      border-bottom-color: var(--fill-color);\n",
       "    }\n",
       "  }\n",
       "</style>\n",
       "\n",
       "  <script>\n",
       "    async function quickchart(key) {\n",
       "      const quickchartButtonEl =\n",
       "        document.querySelector('#' + key + ' button');\n",
       "      quickchartButtonEl.disabled = true;  // To prevent multiple clicks.\n",
       "      quickchartButtonEl.classList.add('colab-df-spinner');\n",
       "      try {\n",
       "        const charts = await google.colab.kernel.invokeFunction(\n",
       "            'suggestCharts', [key], {});\n",
       "      } catch (error) {\n",
       "        console.error('Error during call to suggestCharts:', error);\n",
       "      }\n",
       "      quickchartButtonEl.classList.remove('colab-df-spinner');\n",
       "      quickchartButtonEl.classList.add('colab-df-quickchart-complete');\n",
       "    }\n",
       "    (() => {\n",
       "      let quickchartButtonEl =\n",
       "        document.querySelector('#df-424ffcb1-fecb-450c-ae79-ad9f978b3759 button');\n",
       "      quickchartButtonEl.style.display =\n",
       "        google.colab.kernel.accessAllowed ? 'block' : 'none';\n",
       "    })();\n",
       "  </script>\n",
       "</div>\n",
       "\n",
       "    </div>\n",
       "  </div>\n"
      ],
      "text/plain": [
       "  comment_id  score                                          self_text  \\\n",
       "0    ltty95k      1  She can at least say something besides \"I will...   \n",
       "1    lttxzig      1  Ahh yes, that time when essential workers rule...   \n",
       "2    lttx2v6      1  My thinking is, that if water of low salinity ...   \n",
       "3    lttx10z      1   California will not become a swing state, period   \n",
       "4    lttwts9      1  Global ecosystem would bounce back within a mi...   \n",
       "\n",
       "       subreddit         created_time  post_id    author_name  \\\n",
       "0    environment  2024-10-26 10:49:34  1gc1p4k  MaybePotatoes   \n",
       "1         canada  2024-10-26 10:46:53  1gbjnl4          CKXI1   \n",
       "2  climatechange  2024-10-26 10:38:02  1gchdvg       Abildsan   \n",
       "3    environment  2024-10-26 10:37:31  1gc1p4k  MaybePotatoes   \n",
       "4        climate  2024-10-26 10:35:31  1gbrica   Ze_Wendriner   \n",
       "\n",
       "   controversiality  ups  downs  ...  user_link_karma user_comment_karma  \\\n",
       "0                 0    1      0  ...          55195.0            50767.0   \n",
       "1                 0    1      0  ...              1.0              750.0   \n",
       "2                 0    1      0  ...            583.0             1652.0   \n",
       "3                 0    1      0  ...          55195.0            50767.0   \n",
       "4                 0    1      0  ...           1136.0            36733.0   \n",
       "\n",
       "   user_total_karma  post_score  \\\n",
       "0          106458.0        1195   \n",
       "1             751.0         376   \n",
       "2            2268.0           5   \n",
       "3          106458.0        1195   \n",
       "4           38121.0         230   \n",
       "\n",
       "                                      post_self_text  \\\n",
       "0                                                NaN   \n",
       "1                                                NaN   \n",
       "2  I have a hobby of following ice distribution i...   \n",
       "3                                                NaN   \n",
       "4                                                NaN   \n",
       "\n",
       "                                          post_title  post_upvote_ratio  \\\n",
       "0  Climate Groups Warn Third-Party Vote 'Could Ha...               0.95   \n",
       "1  As federal workers slam office mandate, study ...               0.84   \n",
       "2                          Is AMOC closing right now               1.00   \n",
       "3  Climate Groups Warn Third-Party Vote 'Could Ha...               0.95   \n",
       "4  Latest UN report demands 'unprecedented' emiss...               0.99   \n",
       "\n",
       "   post_thumbs_ups post_total_awards_received    post_created_time  \n",
       "0             1195                          0  2024-10-25 18:51:45  \n",
       "1              376                          0  2024-10-25 02:11:56  \n",
       "2                5                          0  2024-10-26 09:38:41  \n",
       "3             1195                          0  2024-10-25 18:51:45  \n",
       "4              230                          0  2024-10-25 10:58:08  \n",
       "\n",
       "[5 rows x 24 columns]"
      ]
     },
     "execution_count": 14,
     "metadata": {},
     "output_type": "execute_result"
    }
   ],
   "source": [
    "# Load the dataset\n",
    "data = pd.read_csv('/content/sample_data/reddit_opinion_climate_change.csv')\n",
    "\n",
    "# Display the first few rows of the data\n",
    "data.head()"
   ]
  },
  {
   "cell_type": "markdown",
   "metadata": {},
   "source": [
    "**Data Overview**:\n",
    "\n",
    "**Primary Content**\n",
    "\n",
    "1. **self_text**: Contains the main body of text for each post, which is critical for analyzing sentiment, topics, and keywords.\n",
    "2. **post_title**: The title provides additional context and may also contain useful keywords for topic modeling and sentiment analysis.\n",
    "\n",
    "**Post Metadata**\n",
    "\n",
    "1. **subreddit**: Helps identify relevant subreddits (e.g., climatechange, environment) and is essential for filtering and categorizing posts.\n",
    "2. **created_time**: The timestamp can help track trends over time, showing changes in sentiment or volume of climate change discussions.\n",
    "3. **post_created_time**: Indicates when the original post was created, which might be useful if analyzing comment threads or the timing of discussions.\n",
    "\n",
    "**Engagement Metrics**\n",
    "\n",
    "1. **score**: The overall score or popularity of a post can help gauge its impact.\n",
    "2. **ups and downs**: Direct measures of user upvotes and downvotes, providing additional insight into engagement.\n",
    "3. **post_score, post_upvote_ratio, and post_thumbs_ups**: Additional metrics that can help assess the popularity and reach of posts on climate change.\n",
    "\n",
    "**User Attributes (Optional)**\n",
    "\n",
    "1. **user_is_verified**: Knowing if a user is verified can be useful, especially if verified users tend to post content with certain characteristics.\n",
    "2. **user_account_created_time**: Shows account age, which might correlate with reliability or posting patterns on the topic.\n",
    "3. **user_total_karma**: Total karma could suggest influence or credibility within the Reddit community, though it may not be directly tied to the analysis unless studying user influence."
   ]
  },
  {
   "cell_type": "code",
   "execution_count": 15,
   "metadata": {
    "colab": {
     "base_uri": "https://localhost:8080/"
    },
    "id": "j2uyIMd8oSS4",
    "outputId": "950b8248-6092-47ef-c940-106c957d757a"
   },
   "outputs": [
    {
     "data": {
      "text/plain": [
       "Index(['comment_id', 'score', 'self_text', 'subreddit', 'created_time',\n",
       "       'post_id', 'author_name', 'controversiality', 'ups', 'downs',\n",
       "       'user_is_verified', 'user_account_created_time', 'user_awardee_karma',\n",
       "       'user_awarder_karma', 'user_link_karma', 'user_comment_karma',\n",
       "       'user_total_karma', 'post_score', 'post_self_text', 'post_title',\n",
       "       'post_upvote_ratio', 'post_thumbs_ups', 'post_total_awards_received',\n",
       "       'post_created_time'],\n",
       "      dtype='object')"
      ]
     },
     "execution_count": 15,
     "metadata": {},
     "output_type": "execute_result"
    }
   ],
   "source": [
    "#check the columns\n",
    "data.columns"
   ]
  },
  {
   "cell_type": "markdown",
   "metadata": {},
   "source": [
    "### 3. Data Cleaning "
   ]
  },
  {
   "cell_type": "markdown",
   "metadata": {},
   "source": [
    "#### 3.1 Filtering and Handling Missing Values "
   ]
  },
  {
   "cell_type": "markdown",
   "metadata": {},
   "source": [
    "1. Filter for Climate Change Content: Filter posts that are from relevant subreddits or contain climate change-related keywords in the self_text or post_title.\n",
    "2. Handle Missing Values: Drop or handle any rows with missing critical information."
   ]
  },
  {
   "cell_type": "code",
   "execution_count": 16,
   "metadata": {
    "colab": {
     "base_uri": "https://localhost:8080/",
     "height": 642
    },
    "id": "sVgo3avZIWZ_",
    "outputId": "ebd092db-15f6-4273-bd3d-16aa84a31fc4"
   },
   "outputs": [
    {
     "data": {
      "application/vnd.google.colaboratory.intrinsic+json": {
       "type": "dataframe",
       "variable_name": "climate_data"
      },
      "text/html": [
       "\n",
       "  <div id=\"df-bb9a8e91-6607-4aa5-875e-150f2886e915\" class=\"colab-df-container\">\n",
       "    <div>\n",
       "<style scoped>\n",
       "    .dataframe tbody tr th:only-of-type {\n",
       "        vertical-align: middle;\n",
       "    }\n",
       "\n",
       "    .dataframe tbody tr th {\n",
       "        vertical-align: top;\n",
       "    }\n",
       "\n",
       "    .dataframe thead th {\n",
       "        text-align: right;\n",
       "    }\n",
       "</style>\n",
       "<table border=\"1\" class=\"dataframe\">\n",
       "  <thead>\n",
       "    <tr style=\"text-align: right;\">\n",
       "      <th></th>\n",
       "      <th>self_text</th>\n",
       "      <th>subreddit</th>\n",
       "      <th>created_time</th>\n",
       "      <th>post_title</th>\n",
       "      <th>score</th>\n",
       "      <th>ups</th>\n",
       "      <th>downs</th>\n",
       "      <th>user_is_verified</th>\n",
       "      <th>user_account_created_time</th>\n",
       "    </tr>\n",
       "  </thead>\n",
       "  <tbody>\n",
       "    <tr>\n",
       "      <th>0</th>\n",
       "      <td>She can at least say something besides \"I will...</td>\n",
       "      <td>environment</td>\n",
       "      <td>2024-10-26 10:49:34</td>\n",
       "      <td>Climate Groups Warn Third-Party Vote 'Could Ha...</td>\n",
       "      <td>1</td>\n",
       "      <td>1</td>\n",
       "      <td>0</td>\n",
       "      <td>True</td>\n",
       "      <td>2018-03-05 18:16:20</td>\n",
       "    </tr>\n",
       "    <tr>\n",
       "      <th>1</th>\n",
       "      <td>Ahh yes, that time when essential workers rule...</td>\n",
       "      <td>canada</td>\n",
       "      <td>2024-10-26 10:46:53</td>\n",
       "      <td>As federal workers slam office mandate, study ...</td>\n",
       "      <td>1</td>\n",
       "      <td>1</td>\n",
       "      <td>0</td>\n",
       "      <td>True</td>\n",
       "      <td>2022-10-09 20:45:50</td>\n",
       "    </tr>\n",
       "    <tr>\n",
       "      <th>2</th>\n",
       "      <td>My thinking is, that if water of low salinity ...</td>\n",
       "      <td>climatechange</td>\n",
       "      <td>2024-10-26 10:38:02</td>\n",
       "      <td>Is AMOC closing right now</td>\n",
       "      <td>1</td>\n",
       "      <td>1</td>\n",
       "      <td>0</td>\n",
       "      <td>True</td>\n",
       "      <td>2021-11-05 19:04:37</td>\n",
       "    </tr>\n",
       "    <tr>\n",
       "      <th>3</th>\n",
       "      <td>California will not become a swing state, period</td>\n",
       "      <td>environment</td>\n",
       "      <td>2024-10-26 10:37:31</td>\n",
       "      <td>Climate Groups Warn Third-Party Vote 'Could Ha...</td>\n",
       "      <td>1</td>\n",
       "      <td>1</td>\n",
       "      <td>0</td>\n",
       "      <td>True</td>\n",
       "      <td>2018-03-05 18:16:20</td>\n",
       "    </tr>\n",
       "    <tr>\n",
       "      <th>4</th>\n",
       "      <td>Global ecosystem would bounce back within a mi...</td>\n",
       "      <td>climate</td>\n",
       "      <td>2024-10-26 10:35:31</td>\n",
       "      <td>Latest UN report demands 'unprecedented' emiss...</td>\n",
       "      <td>1</td>\n",
       "      <td>1</td>\n",
       "      <td>0</td>\n",
       "      <td>True</td>\n",
       "      <td>2020-09-30 07:55:35</td>\n",
       "    </tr>\n",
       "  </tbody>\n",
       "</table>\n",
       "</div>\n",
       "    <div class=\"colab-df-buttons\">\n",
       "\n",
       "  <div class=\"colab-df-container\">\n",
       "    <button class=\"colab-df-convert\" onclick=\"convertToInteractive('df-bb9a8e91-6607-4aa5-875e-150f2886e915')\"\n",
       "            title=\"Convert this dataframe to an interactive table.\"\n",
       "            style=\"display:none;\">\n",
       "\n",
       "  <svg xmlns=\"http://www.w3.org/2000/svg\" height=\"24px\" viewBox=\"0 -960 960 960\">\n",
       "    <path d=\"M120-120v-720h720v720H120Zm60-500h600v-160H180v160Zm220 220h160v-160H400v160Zm0 220h160v-160H400v160ZM180-400h160v-160H180v160Zm440 0h160v-160H620v160ZM180-180h160v-160H180v160Zm440 0h160v-160H620v160Z\"/>\n",
       "  </svg>\n",
       "    </button>\n",
       "\n",
       "  <style>\n",
       "    .colab-df-container {\n",
       "      display:flex;\n",
       "      gap: 12px;\n",
       "    }\n",
       "\n",
       "    .colab-df-convert {\n",
       "      background-color: #E8F0FE;\n",
       "      border: none;\n",
       "      border-radius: 50%;\n",
       "      cursor: pointer;\n",
       "      display: none;\n",
       "      fill: #1967D2;\n",
       "      height: 32px;\n",
       "      padding: 0 0 0 0;\n",
       "      width: 32px;\n",
       "    }\n",
       "\n",
       "    .colab-df-convert:hover {\n",
       "      background-color: #E2EBFA;\n",
       "      box-shadow: 0px 1px 2px rgba(60, 64, 67, 0.3), 0px 1px 3px 1px rgba(60, 64, 67, 0.15);\n",
       "      fill: #174EA6;\n",
       "    }\n",
       "\n",
       "    .colab-df-buttons div {\n",
       "      margin-bottom: 4px;\n",
       "    }\n",
       "\n",
       "    [theme=dark] .colab-df-convert {\n",
       "      background-color: #3B4455;\n",
       "      fill: #D2E3FC;\n",
       "    }\n",
       "\n",
       "    [theme=dark] .colab-df-convert:hover {\n",
       "      background-color: #434B5C;\n",
       "      box-shadow: 0px 1px 3px 1px rgba(0, 0, 0, 0.15);\n",
       "      filter: drop-shadow(0px 1px 2px rgba(0, 0, 0, 0.3));\n",
       "      fill: #FFFFFF;\n",
       "    }\n",
       "  </style>\n",
       "\n",
       "    <script>\n",
       "      const buttonEl =\n",
       "        document.querySelector('#df-bb9a8e91-6607-4aa5-875e-150f2886e915 button.colab-df-convert');\n",
       "      buttonEl.style.display =\n",
       "        google.colab.kernel.accessAllowed ? 'block' : 'none';\n",
       "\n",
       "      async function convertToInteractive(key) {\n",
       "        const element = document.querySelector('#df-bb9a8e91-6607-4aa5-875e-150f2886e915');\n",
       "        const dataTable =\n",
       "          await google.colab.kernel.invokeFunction('convertToInteractive',\n",
       "                                                    [key], {});\n",
       "        if (!dataTable) return;\n",
       "\n",
       "        const docLinkHtml = 'Like what you see? Visit the ' +\n",
       "          '<a target=\"_blank\" href=https://colab.research.google.com/notebooks/data_table.ipynb>data table notebook</a>'\n",
       "          + ' to learn more about interactive tables.';\n",
       "        element.innerHTML = '';\n",
       "        dataTable['output_type'] = 'display_data';\n",
       "        await google.colab.output.renderOutput(dataTable, element);\n",
       "        const docLink = document.createElement('div');\n",
       "        docLink.innerHTML = docLinkHtml;\n",
       "        element.appendChild(docLink);\n",
       "      }\n",
       "    </script>\n",
       "  </div>\n",
       "\n",
       "\n",
       "<div id=\"df-e9171f99-4fbe-44eb-b18f-c1edf86eab40\">\n",
       "  <button class=\"colab-df-quickchart\" onclick=\"quickchart('df-e9171f99-4fbe-44eb-b18f-c1edf86eab40')\"\n",
       "            title=\"Suggest charts\"\n",
       "            style=\"display:none;\">\n",
       "\n",
       "<svg xmlns=\"http://www.w3.org/2000/svg\" height=\"24px\"viewBox=\"0 0 24 24\"\n",
       "     width=\"24px\">\n",
       "    <g>\n",
       "        <path d=\"M19 3H5c-1.1 0-2 .9-2 2v14c0 1.1.9 2 2 2h14c1.1 0 2-.9 2-2V5c0-1.1-.9-2-2-2zM9 17H7v-7h2v7zm4 0h-2V7h2v10zm4 0h-2v-4h2v4z\"/>\n",
       "    </g>\n",
       "</svg>\n",
       "  </button>\n",
       "\n",
       "<style>\n",
       "  .colab-df-quickchart {\n",
       "      --bg-color: #E8F0FE;\n",
       "      --fill-color: #1967D2;\n",
       "      --hover-bg-color: #E2EBFA;\n",
       "      --hover-fill-color: #174EA6;\n",
       "      --disabled-fill-color: #AAA;\n",
       "      --disabled-bg-color: #DDD;\n",
       "  }\n",
       "\n",
       "  [theme=dark] .colab-df-quickchart {\n",
       "      --bg-color: #3B4455;\n",
       "      --fill-color: #D2E3FC;\n",
       "      --hover-bg-color: #434B5C;\n",
       "      --hover-fill-color: #FFFFFF;\n",
       "      --disabled-bg-color: #3B4455;\n",
       "      --disabled-fill-color: #666;\n",
       "  }\n",
       "\n",
       "  .colab-df-quickchart {\n",
       "    background-color: var(--bg-color);\n",
       "    border: none;\n",
       "    border-radius: 50%;\n",
       "    cursor: pointer;\n",
       "    display: none;\n",
       "    fill: var(--fill-color);\n",
       "    height: 32px;\n",
       "    padding: 0;\n",
       "    width: 32px;\n",
       "  }\n",
       "\n",
       "  .colab-df-quickchart:hover {\n",
       "    background-color: var(--hover-bg-color);\n",
       "    box-shadow: 0 1px 2px rgba(60, 64, 67, 0.3), 0 1px 3px 1px rgba(60, 64, 67, 0.15);\n",
       "    fill: var(--button-hover-fill-color);\n",
       "  }\n",
       "\n",
       "  .colab-df-quickchart-complete:disabled,\n",
       "  .colab-df-quickchart-complete:disabled:hover {\n",
       "    background-color: var(--disabled-bg-color);\n",
       "    fill: var(--disabled-fill-color);\n",
       "    box-shadow: none;\n",
       "  }\n",
       "\n",
       "  .colab-df-spinner {\n",
       "    border: 2px solid var(--fill-color);\n",
       "    border-color: transparent;\n",
       "    border-bottom-color: var(--fill-color);\n",
       "    animation:\n",
       "      spin 1s steps(1) infinite;\n",
       "  }\n",
       "\n",
       "  @keyframes spin {\n",
       "    0% {\n",
       "      border-color: transparent;\n",
       "      border-bottom-color: var(--fill-color);\n",
       "      border-left-color: var(--fill-color);\n",
       "    }\n",
       "    20% {\n",
       "      border-color: transparent;\n",
       "      border-left-color: var(--fill-color);\n",
       "      border-top-color: var(--fill-color);\n",
       "    }\n",
       "    30% {\n",
       "      border-color: transparent;\n",
       "      border-left-color: var(--fill-color);\n",
       "      border-top-color: var(--fill-color);\n",
       "      border-right-color: var(--fill-color);\n",
       "    }\n",
       "    40% {\n",
       "      border-color: transparent;\n",
       "      border-right-color: var(--fill-color);\n",
       "      border-top-color: var(--fill-color);\n",
       "    }\n",
       "    60% {\n",
       "      border-color: transparent;\n",
       "      border-right-color: var(--fill-color);\n",
       "    }\n",
       "    80% {\n",
       "      border-color: transparent;\n",
       "      border-right-color: var(--fill-color);\n",
       "      border-bottom-color: var(--fill-color);\n",
       "    }\n",
       "    90% {\n",
       "      border-color: transparent;\n",
       "      border-bottom-color: var(--fill-color);\n",
       "    }\n",
       "  }\n",
       "</style>\n",
       "\n",
       "  <script>\n",
       "    async function quickchart(key) {\n",
       "      const quickchartButtonEl =\n",
       "        document.querySelector('#' + key + ' button');\n",
       "      quickchartButtonEl.disabled = true;  // To prevent multiple clicks.\n",
       "      quickchartButtonEl.classList.add('colab-df-spinner');\n",
       "      try {\n",
       "        const charts = await google.colab.kernel.invokeFunction(\n",
       "            'suggestCharts', [key], {});\n",
       "      } catch (error) {\n",
       "        console.error('Error during call to suggestCharts:', error);\n",
       "      }\n",
       "      quickchartButtonEl.classList.remove('colab-df-spinner');\n",
       "      quickchartButtonEl.classList.add('colab-df-quickchart-complete');\n",
       "    }\n",
       "    (() => {\n",
       "      let quickchartButtonEl =\n",
       "        document.querySelector('#df-e9171f99-4fbe-44eb-b18f-c1edf86eab40 button');\n",
       "      quickchartButtonEl.style.display =\n",
       "        google.colab.kernel.accessAllowed ? 'block' : 'none';\n",
       "    })();\n",
       "  </script>\n",
       "</div>\n",
       "\n",
       "    </div>\n",
       "  </div>\n"
      ],
      "text/plain": [
       "                                           self_text      subreddit  \\\n",
       "0  She can at least say something besides \"I will...    environment   \n",
       "1  Ahh yes, that time when essential workers rule...         canada   \n",
       "2  My thinking is, that if water of low salinity ...  climatechange   \n",
       "3   California will not become a swing state, period    environment   \n",
       "4  Global ecosystem would bounce back within a mi...        climate   \n",
       "\n",
       "          created_time                                         post_title  \\\n",
       "0  2024-10-26 10:49:34  Climate Groups Warn Third-Party Vote 'Could Ha...   \n",
       "1  2024-10-26 10:46:53  As federal workers slam office mandate, study ...   \n",
       "2  2024-10-26 10:38:02                          Is AMOC closing right now   \n",
       "3  2024-10-26 10:37:31  Climate Groups Warn Third-Party Vote 'Could Ha...   \n",
       "4  2024-10-26 10:35:31  Latest UN report demands 'unprecedented' emiss...   \n",
       "\n",
       "   score  ups  downs  user_is_verified user_account_created_time  \n",
       "0      1    1      0              True       2018-03-05 18:16:20  \n",
       "1      1    1      0              True       2022-10-09 20:45:50  \n",
       "2      1    1      0              True       2021-11-05 19:04:37  \n",
       "3      1    1      0              True       2018-03-05 18:16:20  \n",
       "4      1    1      0              True       2020-09-30 07:55:35  "
      ]
     },
     "execution_count": 16,
     "metadata": {},
     "output_type": "execute_result"
    }
   ],
   "source": [
    "# Selecting relevant columns for analysis\n",
    "climate_data = data[['self_text', 'subreddit', 'created_time', 'post_title', 'score', 'ups', 'downs', 'user_is_verified', 'user_account_created_time']]\n",
    "\n",
    "climate_data.head()"
   ]
  },
  {
   "cell_type": "code",
   "execution_count": 17,
   "metadata": {
    "id": "ki5nV274szPr"
   },
   "outputs": [],
   "source": [
    "# Filtering for climate-related posts\n",
    "climate_data = climate_data[climate_data['subreddit'].isin(['climatechange', 'environment'])]\n",
    "climate_data = climate_data.dropna(subset=['self_text', 'post_title'])\n"
   ]
  },
  {
   "cell_type": "markdown",
   "metadata": {},
   "source": [
    "### 4. Text Processing "
   ]
  },
  {
   "cell_type": "markdown",
   "metadata": {},
   "source": [
    "To prepare text for analysis, we’ll follow these steps:\n",
    "\n",
    "1. Convert text to lowercase\n",
    "2. Remove punctuation\n",
    "3. Tokenize text\n",
    "4. Remove stop words\n",
    "5. Apply lemmatization to normalize words"
   ]
  },
  {
   "cell_type": "code",
   "execution_count": null,
   "metadata": {
    "colab": {
     "base_uri": "https://localhost:8080/"
    },
    "id": "FDZJS7-xyehi",
    "outputId": "44a8614a-191c-44c5-cc32-35e6a99c5ea6"
   },
   "outputs": [
    {
     "name": "stderr",
     "output_type": "stream",
     "text": [
      "[nltk_data] Downloading package wordnet to /root/nltk_data...\n"
     ]
    },
    {
     "name": "stdout",
     "output_type": "stream",
     "text": [
      "                                      processed_text  \\\n",
      "0  least say something besides ensure america alw...   \n",
      "2  thinking water low salinity displaces saline w...   \n",
      "3               california become swing state period   \n",
      "6                                             except   \n",
      "7  also enormous fanbase mobilize vote harris tru...   \n",
      "\n",
      "                                     processed_title  \n",
      "0  climate group warn thirdparty vote could hand ...  \n",
      "2                                 amoc closing right  \n",
      "3  climate group warn thirdparty vote could hand ...  \n",
      "6  climate group warn thirdparty vote could hand ...  \n",
      "7  leonardo dicaprio endorses kamala harris bash ...  \n"
     ]
    }
   ],
   "source": [
    "from nltk.stem import WordNetLemmatizer\n",
    "\n",
    "# Download stopwords if not already installed\n",
    "nltk.download('wordnet')\n",
    "\n",
    "# Initialize stop words and lemmatizer\n",
    "stop_words = set(stopwords.words('english'))\n",
    "lemmatizer = WordNetLemmatizer()\n",
    "\n",
    "# Text preprocessing function\n",
    "def preprocess_text(text):\n",
    "    # Convert to lowercase\n",
    "    text = text.lower()\n",
    "    # Remove punctuation and special characters\n",
    "    text = re.sub(r'[^\\w\\s]', '', text)\n",
    "    # Tokenize and remove stopwords\n",
    "    tokens = [word for word in text.split() if word not in stop_words]\n",
    "    # Lemmatize words\n",
    "    tokens = [lemmatizer.lemmatize(word) for word in tokens]\n",
    "    # Rejoin tokens into a processed string\n",
    "    return ' '.join(tokens)\n",
    "\n",
    "# Apply text preprocessing to self_text and post_title\n",
    "climate_data['processed_text'] = climate_data['self_text'].apply(preprocess_text)\n",
    "climate_data['processed_title'] = climate_data['post_title'].apply(preprocess_text)\n",
    "\n",
    "# Display processed data\n",
    "print(climate_data[['processed_text', 'processed_title']].head())\n"
   ]
  },
  {
   "cell_type": "markdown",
   "metadata": {},
   "source": [
    "### 5. Feature Engineering "
   ]
  },
  {
   "cell_type": "markdown",
   "metadata": {},
   "source": [
    "1. **Sentiment Analysis**: Calculate sentiment scores for each post.\n",
    "2. **N-grams**: Identify bigrams or trigrams to capture context.\n",
    "3. **Topic Modeling**: Use LDA for topic discovery."
   ]
  },
  {
   "cell_type": "code",
   "execution_count": 20,
   "metadata": {
    "colab": {
     "base_uri": "https://localhost:8080/"
    },
    "id": "j6tjffmTs_Zp",
    "outputId": "7d5041c0-7319-49fd-fe73-145d7269ba8c"
   },
   "outputs": [
    {
     "name": "stderr",
     "output_type": "stream",
     "text": [
      "[nltk_data] Downloading package vader_lexicon to /root/nltk_data...\n",
      "[nltk_data]   Package vader_lexicon is already up-to-date!\n"
     ]
    },
    {
     "name": "stdout",
     "output_type": "stream",
     "text": [
      "['10 year' '100 million' '100 year' '100 year ago' '1000 year'\n",
      " '10000 year' '15 degree' '15 year' '150 year' '20 year']\n"
     ]
    }
   ],
   "source": [
    "from nltk.sentiment.vader import SentimentIntensityAnalyzer\n",
    "nltk.download('vader_lexicon')\n",
    "\n",
    "# Initialize Sentiment Analyzer\n",
    "sia = SentimentIntensityAnalyzer()\n",
    "\n",
    "# Function to compute sentiment score\n",
    "climate_data['sentiment'] = climate_data['processed_text'].apply(lambda x: sia.polarity_scores(x)['compound'])\n",
    "\n",
    "# Generate Bigrams and Trigrams\n",
    "from sklearn.feature_extraction.text import CountVectorizer\n",
    "\n",
    "# Initialize vectorizer for bigrams\n",
    "vectorizer = CountVectorizer(ngram_range=(2,3), max_features=1000)\n",
    "ngrams = vectorizer.fit_transform(climate_data['processed_text'])\n",
    "\n",
    "# Display sample n-grams\n",
    "print(vectorizer.get_feature_names_out()[:10])\n"
   ]
  },
  {
   "cell_type": "markdown",
   "metadata": {},
   "source": [
    "### 6. Analysis of the Data"
   ]
  },
  {
   "cell_type": "markdown",
   "metadata": {},
   "source": [
    "#### 6.1 Analyze Overall Sentiment Towards Climate Change Topics Over Time"
   ]
  },
  {
   "cell_type": "markdown",
   "metadata": {},
   "source": [
    "To analyze sentiment over time, we’ll aggregate the sentiment scores by time period (e.g., monthly or weekly) and plot the trend to see if sentiment has generally become more positive, negative, or stayed neutral over time."
   ]
  },
  {
   "cell_type": "code",
   "execution_count": 26,
   "metadata": {
    "colab": {
     "base_uri": "https://localhost:8080/",
     "height": 447
    },
    "id": "3m4xc55Y68-a",
    "outputId": "5598f185-8f9f-485f-c7f4-8a8d89b307c4"
   },
   "outputs": [
    {
     "data": {
      "image/png": "[encoded data removed]",
      "text/plain": [
       "<Figure size 1000x600 with 1 Axes>"
      ]
     },
     "metadata": {},
     "output_type": "display_data"
    }
   ],
   "source": [
    "import pandas as pd\n",
    "import matplotlib.pyplot as plt\n",
    "\n",
    "# Convert 'created_time' to datetime format and extract year and month\n",
    "climate_data['created_time'] = pd.to_datetime(climate_data['created_time'])\n",
    "climate_data['year_month'] = climate_data['created_time'].dt.to_period('M')\n",
    "\n",
    "# Group by year and month, calculate average sentiment\n",
    "sentiment_trend = climate_data.groupby('year_month')['sentiment'].mean().reset_index()\n",
    "\n",
    "# Plot sentiment trend over time\n",
    "plt.figure(figsize=(10, 6))\n",
    "plt.plot(sentiment_trend['year_month'].astype(str), sentiment_trend['sentiment'], marker='o', color='skyblue')\n",
    "plt.xticks(rotation=45)\n",
    "plt.xlabel('Year-Month')\n",
    "plt.ylabel('Average Sentiment')\n",
    "plt.title('Average Sentiment Over Time for Climate Change Discussions on Reddit')\n",
    "plt.show()\n"
   ]
  },
  {
   "cell_type": "markdown",
   "metadata": {},
   "source": [
    "#### 6.2 Identify the Most Active Subreddits and Users Discussing Climate Change "
   ]
  },
  {
   "cell_type": "markdown",
   "metadata": {},
   "source": [
    "To find the most active subreddits and users, we’ll count the number of posts from each and sort them to find the top contributors."
   ]
  },
  {
   "cell_type": "code",
   "execution_count": 28,
   "metadata": {
    "colab": {
     "base_uri": "https://localhost:8080/",
     "height": 786
    },
    "id": "JefzofUW7BMO",
    "outputId": "f726112d-2df2-4c50-8e72-c2eb9ca48fab"
   },
   "outputs": [
    {
     "name": "stdout",
     "output_type": "stream",
     "text": [
      "Top Subreddits Discussing Climate Change:\n",
      " subreddit\n",
      "climatechange    136425\n",
      "environment       40546\n",
      "Name: count, dtype: int64\n",
      "Top Users Discussing Climate Change:\n",
      " author_name\n",
      "[deleted]               3863\n",
      "Infamous_Employer_85    3074\n",
      "LackmustestTester       2673\n",
      "Tpaine63                2521\n",
      "Honest_Cynic            2335\n",
      "fiaanaut                2055\n",
      "silence7                1613\n",
      "logicalprogressive      1590\n",
      "Cultural-Answer-321     1532\n",
      "NewyBluey               1233\n",
      "Name: count, dtype: int64\n"
     ]
    },
    {
     "data": {
      "image/png": "[encoded data removed]",
      "text/plain": [
       "<Figure size 1000x600 with 1 Axes>"
      ]
     },
     "metadata": {},
     "output_type": "display_data"
    }
   ],
   "source": [
    "# Most active subreddits\n",
    "top_subreddits = climate_data['subreddit'].value_counts().head(10)\n",
    "print(\"Top Subreddits Discussing Climate Change:\\n\", top_subreddits)\n",
    "\n",
    "# Most active users\n",
    "top_users = data['author_name'].value_counts().head(10)\n",
    "print(\"Top Users Discussing Climate Change:\\n\", top_users)\n",
    "\n",
    "# Plot top subreddits\n",
    "plt.figure(figsize=(10, 6))\n",
    "top_subreddits.plot(kind='bar', color='lightgreen')\n",
    "plt.xlabel('Subreddit')\n",
    "plt.ylabel('Number of Posts')\n",
    "plt.title('Top 10 Subreddits Discussing Climate Change')\n",
    "plt.show()\n"
   ]
  },
  {
   "cell_type": "markdown",
   "metadata": {},
   "source": [
    "**Top Subreddits and Users**:\n",
    "\n",
    "1. **Active Subreddits**: The most active subreddits included r/climate, r/environment, and r/climatechange.\n",
    "2. **Frequent Users**: Analysis identified key users who frequently engaged in discussions, demonstrating consistent interest in climate topics."
   ]
  },
  {
   "cell_type": "markdown",
   "metadata": {},
   "source": [
    "#### 6.3 Investigate Controversial Climate Change Discussions "
   ]
  },
  {
   "cell_type": "markdown",
   "metadata": {},
   "source": [
    "Controversial posts often have high controversiality scores or close upvote/downvote ratios. By analyzing these posts, we can see what topics or arguments create division among users"
   ]
  },
  {
   "cell_type": "code",
   "execution_count": 30,
   "metadata": {
    "colab": {
     "base_uri": "https://localhost:8080/",
     "height": 649
    },
    "id": "yWf1Qfd07KbW",
    "outputId": "4e398d87-f832-4cc4-c222-58d4fb084a7c"
   },
   "outputs": [
    {
     "name": "stdout",
     "output_type": "stream",
     "text": [
      "Sample of Controversial Climate Change Discussions:\n",
      "                                              self_text    subreddit  score\n",
      "11   He parties on yachts and flies around the worl...  environment      0\n",
      "70                       Leo sucks get him out of here  environment     -2\n",
      "100           Did he fly across the globe to do it? /s  environment      2\n",
      "163  All the papers have backed the left for decade...   conspiracy     -1\n",
      "200  cool, give kamala a free pass to do whatever s...  environment     -3\n",
      "205  the military industrial complex is the biggest...  environment      0\n",
      "237  Ok, let trump handle the situation for Palesti...  environment      4\n",
      "257  &gt; ). If you care about the environment ther...  environment     -2\n",
      "260  It's naive and dangerous to want to live in a ...  environment      1\n",
      "261  Yes the person who actively boast about develo...  environment     -1\n"
     ]
    },
    {
     "data": {
      "image/png": "[encoded data removed]",
      "text/plain": [
       "<Figure size 1000x600 with 1 Axes>"
      ]
     },
     "metadata": {},
     "output_type": "display_data"
    }
   ],
   "source": [
    "# Filter controversial posts (assuming 'controversiality' > 0 indicates controversy)\n",
    "controversial_posts = data[data['controversiality'] > 0]\n",
    "\n",
    "# View a sample of controversial posts\n",
    "print(\"Sample of Controversial Climate Change Discussions:\\n\", controversial_posts[['self_text', 'subreddit', 'score']].head(10))\n",
    "\n",
    "# Analyze common themes in controversial posts using NLP\n",
    "from sklearn.feature_extraction.text import CountVectorizer\n",
    "\n",
    "vectorizer = CountVectorizer(stop_words='english', max_features=20)\n",
    "X = vectorizer.fit_transform(controversial_posts['self_text'].dropna())\n",
    "controversial_terms = pd.DataFrame(X.toarray(), columns=vectorizer.get_feature_names_out()).sum().sort_values(ascending=False)\n",
    "\n",
    "# Plot common terms in controversial discussions\n",
    "plt.figure(figsize=(10, 6))\n",
    "controversial_terms.plot(kind='bar', color='coral')\n",
    "plt.xlabel('Terms')\n",
    "plt.ylabel('Frequency')\n",
    "plt.title('Common Terms in Controversial Climate Change Discussions')\n",
    "plt.show()\n"
   ]
  },
  {
   "cell_type": "markdown",
   "metadata": {},
   "source": [
    "#### 6.4  Identify Key Topics and Themes in Climate Change Discussions Using NLP"
   ]
  },
  {
   "cell_type": "markdown",
   "metadata": {
    "id": "1VmTO_r8CX8x"
   },
   "source": [
    "Topic modeling helps identify themes within discussions. Latent Dirichlet Allocation (LDA) is often used for this purpose. We’ll preprocess the text, apply LDA, and then extract key topics."
   ]
  },
  {
   "cell_type": "code",
   "execution_count": 31,
   "metadata": {
    "colab": {
     "base_uri": "https://localhost:8080/"
    },
    "id": "5gapgeeq7awJ",
    "outputId": "cfd111e8-01ea-4eb6-f9dd-17d8354c50b9"
   },
   "outputs": [
    {
     "name": "stdout",
     "output_type": "stream",
     "text": [
      "Topic 1:  ['need', 'carbon', 'yes', 'fuel', 'oil', 'fossil', 'power', 'solar', 'nuclear', 'energy']\n",
      "Topic 2:  ['global', 'atmosphere', 'climate', 'emissions', 'org', 'carbon', 'com', 'www', 'co2', 'https']\n",
      "Topic 3:  ['earth', 'sea', 'heat', 'water', 'weather', 'change', 'year', 'ice', 'climate', 'years']\n",
      "Topic 4:  ['way', 'world', 'going', 'think', 'like', 'don', 'just', 'change', 'climate', 'people']\n",
      "Topic 5:  ['thanks', 'good', 'read', 'like', 'know', 'change', 'just', 'don', 'science', 'climate']\n"
     ]
    }
   ],
   "source": [
    "from sklearn.decomposition import LatentDirichletAllocation\n",
    "from sklearn.feature_extraction.text import TfidfVectorizer\n",
    "\n",
    "# Preprocessing: Vectorize text data\n",
    "tfidf_vectorizer = TfidfVectorizer(max_df=0.9, min_df=10, stop_words='english')\n",
    "tfidf_matrix = tfidf_vectorizer.fit_transform(climate_data['self_text'].dropna())\n",
    "\n",
    "# Define LDA model\n",
    "lda = LatentDirichletAllocation(n_components=5, random_state=42)\n",
    "lda.fit(tfidf_matrix)\n",
    "\n",
    "# Display the top terms in each topic\n",
    "terms = tfidf_vectorizer.get_feature_names_out()\n",
    "for idx, topic in enumerate(lda.components_):\n",
    "    print(f\"Topic {idx + 1}: \", [terms[i] for i in topic.argsort()[-10:]])\n",
    "\n"
   ]
  },
  {
   "cell_type": "markdown",
   "metadata": {},
   "source": [
    "### 7. Data Transformation "
   ]
  },
  {
   "cell_type": "markdown",
   "metadata": {},
   "source": [
    "Convert text data to a numerical format with TF-IDF vectorization for model training."
   ]
  },
  {
   "cell_type": "code",
   "execution_count": 21,
   "metadata": {
    "id": "hAj_0cdb4Z7e"
   },
   "outputs": [],
   "source": [
    "from sklearn.feature_extraction.text import TfidfVectorizer\n",
    "\n",
    "# Initialize TF-IDF vectorizer\n",
    "tfidf = TfidfVectorizer(max_features=1000)\n",
    "X = tfidf.fit_transform(climate_data['processed_text'])\n",
    "\n",
    "# Combine with sentiment score and other features\n",
    "import numpy as np\n",
    "features = np.hstack([X.toarray(), climate_data[['sentiment']].values])\n"
   ]
  },
  {
   "cell_type": "markdown",
   "metadata": {},
   "source": [
    "### 8. Model Training "
   ]
  },
  {
   "cell_type": "markdown",
   "metadata": {},
   "source": [
    "We'll use a logistic regression model to classify posts based on sentiment or topic (e.g., positive or negative sentiment toward climate change)."
   ]
  },
  {
   "cell_type": "code",
   "execution_count": 22,
   "metadata": {
    "colab": {
     "base_uri": "https://localhost:8080/"
    },
    "id": "RAZfYfSi5MjX",
    "outputId": "e8a26e06-7438-474e-acab-15077bc2bc5f"
   },
   "outputs": [
    {
     "name": "stdout",
     "output_type": "stream",
     "text": [
      "              precision    recall  f1-score   support\n",
      "\n",
      "           0       0.99      1.00      0.99     18989\n",
      "           1       1.00      0.99      0.99     16406\n",
      "\n",
      "    accuracy                           0.99     35395\n",
      "   macro avg       0.99      0.99      0.99     35395\n",
      "weighted avg       0.99      0.99      0.99     35395\n",
      "\n"
     ]
    }
   ],
   "source": [
    "from sklearn.model_selection import train_test_split\n",
    "from sklearn.linear_model import LogisticRegression\n",
    "from sklearn.metrics import classification_report\n",
    "\n",
    "# Splitting data into training and testing sets\n",
    "X_train, X_test, y_train, y_test = train_test_split(features, (climate_data['sentiment'] > 0).astype(int), test_size=0.2, random_state=42)\n",
    "\n",
    "# Training logistic regression model\n",
    "model = LogisticRegression()\n",
    "model.fit(X_train, y_train)\n",
    "\n",
    "# Predictions and evaluation\n",
    "y_pred = model.predict(X_test)\n",
    "print(classification_report(y_test, y_pred))\n"
   ]
  },
  {
   "cell_type": "markdown",
   "metadata": {},
   "source": [
    "### 9. Model Evaluation "
   ]
  },
  {
   "cell_type": "markdown",
   "metadata": {},
   "source": [
    "Evaluate the model’s accuracy, precision, recall, and F1 score to assess performance."
   ]
  },
  {
   "cell_type": "code",
   "execution_count": 24,
   "metadata": {
    "colab": {
     "base_uri": "https://localhost:8080/"
    },
    "id": "hQ3KRDNP5RGE",
    "outputId": "b484cadb-e30e-4692-f54f-c0a71803708a"
   },
   "outputs": [
    {
     "name": "stdout",
     "output_type": "stream",
     "text": [
      "Model Accuracy: 0.99\n"
     ]
    }
   ],
   "source": [
    "from sklearn.metrics import accuracy_score\n",
    "\n",
    "# Display accuracy\n",
    "accuracy = accuracy_score(y_test, y_pred)\n",
    "print(f\"Model Accuracy: {accuracy:.2f}\")\n"
   ]
  },
  {
   "cell_type": "markdown",
   "metadata": {},
   "source": [
    "### 10. Result and Conclusion "
   ]
  },
  {
   "cell_type": "markdown",
   "metadata": {},
   "source": [
    "1. **Precision and Recall**: Both classes (0 and 1) have high precision and recall values, indicating that the model is not only making correct predictions but also handling both classes well without bias.\n",
    "2. **F1-Score**: The F1-score for both classes is 0.99, demonstrating a strong balance between precision and recall.\n",
    "3. **Accuracy**: An accuracy of 99% suggests that the model is performing extremely well on this data."
   ]
  }
 ],
 "metadata": {
  "colab": {
   "provenance": []
  },
  "kernelspec": {
   "display_name": "Python 3",
   "language": "python",
   "name": "python3"
  },
  "language_info": {
   "codemirror_mode": {
    "name": "ipython",
    "version": 3
   },
   "file_extension": ".py",
   "mimetype": "text/x-python",
   "name": "python",
   "nbconvert_exporter": "python",
   "pygments_lexer": "ipython3",
   "version": "3.8.8"
  }
 },
 "nbformat": 4,
 "nbformat_minor": 1
}
